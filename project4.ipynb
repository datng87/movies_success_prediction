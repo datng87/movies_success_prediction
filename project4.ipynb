{
 "cells": [
  {
   "cell_type": "code",
   "execution_count": 4,
   "metadata": {},
   "outputs": [],
   "source": [
    "import pandas as pd"
   ]
  },
  {
   "cell_type": "markdown",
   "metadata": {},
   "source": [
    "Data Clean up"
   ]
  },
  {
   "cell_type": "code",
   "execution_count": 5,
   "metadata": {},
   "outputs": [
    {
     "name": "stderr",
     "output_type": "stream",
     "text": [
      "c:\\Users\\datqu\\anaconda3\\envs\\PythonAdv\\lib\\site-packages\\IPython\\core\\interactiveshell.py:3072: DtypeWarning: Columns (4) have mixed types.Specify dtype option on import or set low_memory=False.\n",
      "  interactivity=interactivity, compiler=compiler, result=result)\n"
     ]
    }
   ],
   "source": [
    "df1= pd.read_csv(\"./data/title_basics.tsv\",sep='\\t')\n",
    "df= pd.read_csv(\"./data/title_rating.tsv\",sep='\\t')\n",
    "df2 = df1.merge(df,how = 'inner',on='tconst')"
   ]
  },
  {
   "cell_type": "code",
   "execution_count": 6,
   "metadata": {},
   "outputs": [
    {
     "name": "stderr",
     "output_type": "stream",
     "text": [
      "c:\\Users\\datqu\\anaconda3\\envs\\PythonAdv\\lib\\site-packages\\IPython\\core\\interactiveshell.py:3072: DtypeWarning: Columns (7) have mixed types.Specify dtype option on import or set low_memory=False.\n",
      "  interactivity=interactivity, compiler=compiler, result=result)\n"
     ]
    }
   ],
   "source": [
    "df= pd.read_csv(\"./data/title_akas.tsv\",sep='\\t')\n",
    "df = df.groupby(by=\"titleId\").count()\n",
    "df.reset_index(inplace=True)\n",
    "df=df[['titleId','language']]\n",
    "df= df.rename(columns={'titleId':'tconst'})\n",
    "df2 = df2.merge(df, how = 'left', on = 'tconst')"
   ]
  },
  {
   "cell_type": "code",
   "execution_count": 7,
   "metadata": {},
   "outputs": [],
   "source": [
    "df= pd.read_csv(\"./data/title_crew.tsv\",sep='\\t')\n",
    "df2 =df2.merge(df,how='left',on='tconst')"
   ]
  },
  {
   "cell_type": "code",
   "execution_count": 8,
   "metadata": {},
   "outputs": [],
   "source": [
    "df= pd.read_csv(\"./data/title_episode.tsv\",sep='\\t')\n",
    "df2=df2.merge(df,how='left',on='tconst')"
   ]
  },
  {
   "cell_type": "code",
   "execution_count": 9,
   "metadata": {},
   "outputs": [
    {
     "data": {
      "text/html": [
       "<div>\n",
       "<style scoped>\n",
       "    .dataframe tbody tr th:only-of-type {\n",
       "        vertical-align: middle;\n",
       "    }\n",
       "\n",
       "    .dataframe tbody tr th {\n",
       "        vertical-align: top;\n",
       "    }\n",
       "\n",
       "    .dataframe thead th {\n",
       "        text-align: right;\n",
       "    }\n",
       "</style>\n",
       "<table border=\"1\" class=\"dataframe\">\n",
       "  <thead>\n",
       "    <tr style=\"text-align: right;\">\n",
       "      <th></th>\n",
       "      <th>tconst</th>\n",
       "      <th>titleType</th>\n",
       "      <th>primaryTitle</th>\n",
       "      <th>originalTitle</th>\n",
       "      <th>isAdult</th>\n",
       "      <th>startYear</th>\n",
       "      <th>endYear</th>\n",
       "      <th>runtimeMinutes</th>\n",
       "      <th>genres</th>\n",
       "      <th>averageRating</th>\n",
       "      <th>numVotes</th>\n",
       "      <th>language</th>\n",
       "      <th>directors</th>\n",
       "      <th>writers</th>\n",
       "      <th>parentTconst</th>\n",
       "      <th>seasonNumber</th>\n",
       "      <th>episodeNumber</th>\n",
       "    </tr>\n",
       "  </thead>\n",
       "  <tbody>\n",
       "    <tr>\n",
       "      <th>0</th>\n",
       "      <td>tt0000001</td>\n",
       "      <td>short</td>\n",
       "      <td>Carmencita</td>\n",
       "      <td>Carmencita</td>\n",
       "      <td>0</td>\n",
       "      <td>1894</td>\n",
       "      <td>0</td>\n",
       "      <td>1</td>\n",
       "      <td>Documentary,Short</td>\n",
       "      <td>5.7</td>\n",
       "      <td>1914</td>\n",
       "      <td>8.0</td>\n",
       "      <td>nm0005690</td>\n",
       "      <td>unknown</td>\n",
       "      <td>movie</td>\n",
       "      <td>0</td>\n",
       "      <td>0</td>\n",
       "    </tr>\n",
       "    <tr>\n",
       "      <th>1</th>\n",
       "      <td>tt0000002</td>\n",
       "      <td>short</td>\n",
       "      <td>Le clown et ses chiens</td>\n",
       "      <td>Le clown et ses chiens</td>\n",
       "      <td>0</td>\n",
       "      <td>1892</td>\n",
       "      <td>0</td>\n",
       "      <td>5</td>\n",
       "      <td>Animation,Short</td>\n",
       "      <td>5.8</td>\n",
       "      <td>259</td>\n",
       "      <td>8.0</td>\n",
       "      <td>nm0721526</td>\n",
       "      <td>unknown</td>\n",
       "      <td>movie</td>\n",
       "      <td>0</td>\n",
       "      <td>0</td>\n",
       "    </tr>\n",
       "    <tr>\n",
       "      <th>2</th>\n",
       "      <td>tt0000003</td>\n",
       "      <td>short</td>\n",
       "      <td>Pauvre Pierrot</td>\n",
       "      <td>Pauvre Pierrot</td>\n",
       "      <td>0</td>\n",
       "      <td>1892</td>\n",
       "      <td>0</td>\n",
       "      <td>4</td>\n",
       "      <td>Animation,Comedy,Romance</td>\n",
       "      <td>6.5</td>\n",
       "      <td>1720</td>\n",
       "      <td>9.0</td>\n",
       "      <td>nm0721526</td>\n",
       "      <td>unknown</td>\n",
       "      <td>movie</td>\n",
       "      <td>0</td>\n",
       "      <td>0</td>\n",
       "    </tr>\n",
       "    <tr>\n",
       "      <th>3</th>\n",
       "      <td>tt0000004</td>\n",
       "      <td>short</td>\n",
       "      <td>Un bon bock</td>\n",
       "      <td>Un bon bock</td>\n",
       "      <td>0</td>\n",
       "      <td>1892</td>\n",
       "      <td>0</td>\n",
       "      <td>12</td>\n",
       "      <td>Animation,Short</td>\n",
       "      <td>5.6</td>\n",
       "      <td>172</td>\n",
       "      <td>8.0</td>\n",
       "      <td>nm0721526</td>\n",
       "      <td>unknown</td>\n",
       "      <td>movie</td>\n",
       "      <td>0</td>\n",
       "      <td>0</td>\n",
       "    </tr>\n",
       "    <tr>\n",
       "      <th>4</th>\n",
       "      <td>tt0000005</td>\n",
       "      <td>short</td>\n",
       "      <td>Blacksmith Scene</td>\n",
       "      <td>Blacksmith Scene</td>\n",
       "      <td>0</td>\n",
       "      <td>1893</td>\n",
       "      <td>0</td>\n",
       "      <td>1</td>\n",
       "      <td>Comedy,Short</td>\n",
       "      <td>6.2</td>\n",
       "      <td>2536</td>\n",
       "      <td>12.0</td>\n",
       "      <td>nm0005690</td>\n",
       "      <td>unknown</td>\n",
       "      <td>movie</td>\n",
       "      <td>0</td>\n",
       "      <td>0</td>\n",
       "    </tr>\n",
       "    <tr>\n",
       "      <th>...</th>\n",
       "      <td>...</td>\n",
       "      <td>...</td>\n",
       "      <td>...</td>\n",
       "      <td>...</td>\n",
       "      <td>...</td>\n",
       "      <td>...</td>\n",
       "      <td>...</td>\n",
       "      <td>...</td>\n",
       "      <td>...</td>\n",
       "      <td>...</td>\n",
       "      <td>...</td>\n",
       "      <td>...</td>\n",
       "      <td>...</td>\n",
       "      <td>...</td>\n",
       "      <td>...</td>\n",
       "      <td>...</td>\n",
       "      <td>...</td>\n",
       "    </tr>\n",
       "    <tr>\n",
       "      <th>1263401</th>\n",
       "      <td>tt9916690</td>\n",
       "      <td>tvEpisode</td>\n",
       "      <td>Horrid Henry Delivers the Milk</td>\n",
       "      <td>Horrid Henry Delivers the Milk</td>\n",
       "      <td>0</td>\n",
       "      <td>2012</td>\n",
       "      <td>0</td>\n",
       "      <td>10</td>\n",
       "      <td>Adventure,Animation,Comedy</td>\n",
       "      <td>6.5</td>\n",
       "      <td>6</td>\n",
       "      <td>1.0</td>\n",
       "      <td>nm0996406</td>\n",
       "      <td>nm1482639,nm2586970</td>\n",
       "      <td>tt0985991</td>\n",
       "      <td>3</td>\n",
       "      <td>47</td>\n",
       "    </tr>\n",
       "    <tr>\n",
       "      <th>1263402</th>\n",
       "      <td>tt9916720</td>\n",
       "      <td>short</td>\n",
       "      <td>The Nun 2</td>\n",
       "      <td>The Nun 2</td>\n",
       "      <td>0</td>\n",
       "      <td>2019</td>\n",
       "      <td>0</td>\n",
       "      <td>10</td>\n",
       "      <td>Comedy,Horror,Mystery</td>\n",
       "      <td>5.3</td>\n",
       "      <td>262</td>\n",
       "      <td>14.0</td>\n",
       "      <td>nm10538600</td>\n",
       "      <td>unknown</td>\n",
       "      <td>movie</td>\n",
       "      <td>0</td>\n",
       "      <td>0</td>\n",
       "    </tr>\n",
       "    <tr>\n",
       "      <th>1263403</th>\n",
       "      <td>tt9916730</td>\n",
       "      <td>movie</td>\n",
       "      <td>6 Gunn</td>\n",
       "      <td>6 Gunn</td>\n",
       "      <td>0</td>\n",
       "      <td>2017</td>\n",
       "      <td>0</td>\n",
       "      <td>116</td>\n",
       "      <td>unknown</td>\n",
       "      <td>8.4</td>\n",
       "      <td>6</td>\n",
       "      <td>1.0</td>\n",
       "      <td>nm10538612</td>\n",
       "      <td>nm10538612</td>\n",
       "      <td>movie</td>\n",
       "      <td>0</td>\n",
       "      <td>0</td>\n",
       "    </tr>\n",
       "    <tr>\n",
       "      <th>1263404</th>\n",
       "      <td>tt9916766</td>\n",
       "      <td>tvEpisode</td>\n",
       "      <td>Episode #10.15</td>\n",
       "      <td>Episode #10.15</td>\n",
       "      <td>0</td>\n",
       "      <td>2019</td>\n",
       "      <td>0</td>\n",
       "      <td>43</td>\n",
       "      <td>Family,Game-Show,Reality-TV</td>\n",
       "      <td>6.8</td>\n",
       "      <td>21</td>\n",
       "      <td>7.0</td>\n",
       "      <td>unknown</td>\n",
       "      <td>unknown</td>\n",
       "      <td>tt1442550</td>\n",
       "      <td>10</td>\n",
       "      <td>15</td>\n",
       "    </tr>\n",
       "    <tr>\n",
       "      <th>1263405</th>\n",
       "      <td>tt9916778</td>\n",
       "      <td>tvEpisode</td>\n",
       "      <td>Escape</td>\n",
       "      <td>Escape</td>\n",
       "      <td>0</td>\n",
       "      <td>2019</td>\n",
       "      <td>0</td>\n",
       "      <td>0</td>\n",
       "      <td>Crime,Drama,Mystery</td>\n",
       "      <td>7.2</td>\n",
       "      <td>35</td>\n",
       "      <td>1.0</td>\n",
       "      <td>unknown</td>\n",
       "      <td>unknown</td>\n",
       "      <td>tt9595170</td>\n",
       "      <td>1</td>\n",
       "      <td>3</td>\n",
       "    </tr>\n",
       "  </tbody>\n",
       "</table>\n",
       "<p>1263406 rows × 17 columns</p>\n",
       "</div>"
      ],
      "text/plain": [
       "            tconst  titleType                    primaryTitle  \\\n",
       "0        tt0000001      short                      Carmencita   \n",
       "1        tt0000002      short          Le clown et ses chiens   \n",
       "2        tt0000003      short                  Pauvre Pierrot   \n",
       "3        tt0000004      short                     Un bon bock   \n",
       "4        tt0000005      short                Blacksmith Scene   \n",
       "...            ...        ...                             ...   \n",
       "1263401  tt9916690  tvEpisode  Horrid Henry Delivers the Milk   \n",
       "1263402  tt9916720      short                       The Nun 2   \n",
       "1263403  tt9916730      movie                          6 Gunn   \n",
       "1263404  tt9916766  tvEpisode                  Episode #10.15   \n",
       "1263405  tt9916778  tvEpisode                          Escape   \n",
       "\n",
       "                          originalTitle  isAdult  startYear  endYear  \\\n",
       "0                            Carmencita        0       1894        0   \n",
       "1                Le clown et ses chiens        0       1892        0   \n",
       "2                        Pauvre Pierrot        0       1892        0   \n",
       "3                           Un bon bock        0       1892        0   \n",
       "4                      Blacksmith Scene        0       1893        0   \n",
       "...                                 ...      ...        ...      ...   \n",
       "1263401  Horrid Henry Delivers the Milk        0       2012        0   \n",
       "1263402                       The Nun 2        0       2019        0   \n",
       "1263403                          6 Gunn        0       2017        0   \n",
       "1263404                  Episode #10.15        0       2019        0   \n",
       "1263405                          Escape        0       2019        0   \n",
       "\n",
       "         runtimeMinutes                       genres  averageRating  numVotes  \\\n",
       "0                     1            Documentary,Short            5.7      1914   \n",
       "1                     5              Animation,Short            5.8       259   \n",
       "2                     4     Animation,Comedy,Romance            6.5      1720   \n",
       "3                    12              Animation,Short            5.6       172   \n",
       "4                     1                 Comedy,Short            6.2      2536   \n",
       "...                 ...                          ...            ...       ...   \n",
       "1263401              10   Adventure,Animation,Comedy            6.5         6   \n",
       "1263402              10        Comedy,Horror,Mystery            5.3       262   \n",
       "1263403             116                      unknown            8.4         6   \n",
       "1263404              43  Family,Game-Show,Reality-TV            6.8        21   \n",
       "1263405               0          Crime,Drama,Mystery            7.2        35   \n",
       "\n",
       "         language   directors              writers parentTconst  seasonNumber  \\\n",
       "0             8.0   nm0005690              unknown        movie             0   \n",
       "1             8.0   nm0721526              unknown        movie             0   \n",
       "2             9.0   nm0721526              unknown        movie             0   \n",
       "3             8.0   nm0721526              unknown        movie             0   \n",
       "4            12.0   nm0005690              unknown        movie             0   \n",
       "...           ...         ...                  ...          ...           ...   \n",
       "1263401       1.0   nm0996406  nm1482639,nm2586970    tt0985991             3   \n",
       "1263402      14.0  nm10538600              unknown        movie             0   \n",
       "1263403       1.0  nm10538612           nm10538612        movie             0   \n",
       "1263404       7.0     unknown              unknown    tt1442550            10   \n",
       "1263405       1.0     unknown              unknown    tt9595170             1   \n",
       "\n",
       "         episodeNumber  \n",
       "0                    0  \n",
       "1                    0  \n",
       "2                    0  \n",
       "3                    0  \n",
       "4                    0  \n",
       "...                ...  \n",
       "1263401             47  \n",
       "1263402              0  \n",
       "1263403              0  \n",
       "1263404             15  \n",
       "1263405              3  \n",
       "\n",
       "[1263406 rows x 17 columns]"
      ]
     },
     "execution_count": 9,
     "metadata": {},
     "output_type": "execute_result"
    }
   ],
   "source": [
    "#replace NA , \\N\n",
    "df2.parentTconst.fillna(\"movie\",inplace=True)\n",
    "df2.seasonNumber.fillna(0,inplace=True)\n",
    "df2.seasonNumber.replace(r\"\\\\N\",0,regex=True,inplace=True)\n",
    "df2.episodeNumber.replace(r\"\\\\N\",0,regex=True,inplace=True)\n",
    "df2.episodeNumber.fillna(0,inplace=True)\n",
    "df2.writers.replace(r\"\\\\N\",\"unknown\",regex=True,inplace=True)\n",
    "df2.directors.replace(r\"\\\\N\",\"unknown\",regex=True,inplace=True)\n",
    "df2.language.fillna(1,inplace=True)\n",
    "df2.genres.replace(r\"\\\\N\",\"unknown\",regex=True,inplace=True)\n",
    "df2.runtimeMinutes.replace(r\"\\\\N\",0,regex=True,inplace=True)\n",
    "df2.endYear.replace(r\"\\\\N\",0,regex=True,inplace=True)\n",
    "df2.startYear.replace(r\"\\\\N\",0,regex=True,inplace=True)\n",
    "df2.runtimeMinutes.replace(\"Game-Show,Reality-TV\",0,inplace=True)\n",
    "df2.runtimeMinutes.replace(\"Game-Show\",0,inplace=True)\n",
    "df2.runtimeMinutes=pd.to_numeric(df2.runtimeMinutes)\n",
    "#convert data type\n",
    "df2.isAdult=pd.to_numeric(df2.isAdult)\n",
    "df2.startYear=pd.to_numeric(df2.startYear)\n",
    "df2.endYear=pd.to_numeric(df2.endYear)\n",
    "df2.seasonNumber=pd.to_numeric(df2.seasonNumber)\n",
    "df2.episodeNumber=pd.to_numeric(df2.episodeNumber)\n",
    "df2.to_csv('./data/imdbdata.csv',index=False)\n",
    "df2"
   ]
  },
  {
   "cell_type": "code",
   "execution_count": 10,
   "metadata": {},
   "outputs": [],
   "source": [
    "#consolidate the movie data files\n",
    "# import os\n",
    "\n",
    "# directory = os.fsencode('./themoviedb')\n",
    "# count = 0\n",
    "    \n",
    "# for file in os.listdir(directory):\n",
    "#     filename = os.fsdecode(file)\n",
    "     \n",
    "#     file = (f'./themoviedb/{filename}')\n",
    "#     if count==0:\n",
    "#         df = pd.read_csv(file)\n",
    "#         count+=1\n",
    "#     else:\n",
    "#         df1 =pd.read_csv(file)\n",
    "#         df = pd.concat([df,df1],ignore_index=True)\n",
    "        \n",
    "# df4 = pd.read_csv('./Julia/themoviedb_id_500000_to_600000.csv',\n",
    "#                  lineterminator='\\n')\n",
    "# df = pd.concat([df,df4],ignore_index=True)\n",
    "# df.to_csv('./data/themoviedb.csv', index=False)"
   ]
  },
  {
   "cell_type": "code",
   "execution_count": 11,
   "metadata": {},
   "outputs": [],
   "source": [
    "#consolidate omdb data files\n",
    "# import os\n",
    "\n",
    "# directory = os.fsencode('./omdb')\n",
    "# count = 0\n",
    "    \n",
    "# for file in os.listdir(directory):\n",
    "#     filename = os.fsdecode(file)\n",
    "     \n",
    "#     file = (f'./omdb/{filename}')\n",
    "#     if count==0:\n",
    "#         df = pd.read_csv(file)\n",
    "#         count+=1\n",
    "#     else:\n",
    "#         df1 =pd.read_csv(file)\n",
    "#         df = pd.concat([df,df1],ignore_index=True)\n",
    "# df.to_csv('./data/omdb.csv', index=False)"
   ]
  },
  {
   "cell_type": "markdown",
   "metadata": {},
   "source": [
    "Data merging"
   ]
  },
  {
   "cell_type": "code",
   "execution_count": 12,
   "metadata": {},
   "outputs": [],
   "source": [
    "#read and merge 3 data sources\n",
    "df2 = pd.read_csv('./data/imdbdata.csv')\n",
    "df = pd.read_csv('./data/themoviedb.csv')\n",
    "df.rename(columns={'imdb_id':'tconst'},inplace=True)\n",
    "df2= df2.merge(df,how='inner',on='tconst')\n",
    "df2=df2.loc[df2.startYear>=2017,:]\n",
    "df2=df2.loc[df2.titleType=='movie',:]\n",
    "# df2.to_csv('./data/subset_movie_data_new.csv',index=False)\n",
    "df = pd.read_csv('./data/omdb.csv')\n",
    "df2= df2.merge(df,how='inner',on='tconst')"
   ]
  },
  {
   "cell_type": "code",
   "execution_count": 13,
   "metadata": {},
   "outputs": [],
   "source": [
    "#export to raw data\n",
    "df2.to_csv('./data/raw_consolidate_data.csv',index=False)\n"
   ]
  },
  {
   "cell_type": "markdown",
   "metadata": {},
   "source": [
    "Data manipulation / transformation"
   ]
  },
  {
   "cell_type": "code",
   "execution_count": 77,
   "metadata": {},
   "outputs": [
    {
     "data": {
      "text/plain": [
       "Index(['tconst', 'primaryTitle', 'startYear', 'runtimeMinutes',\n",
       "       'averageRating', 'number_of_languages', 'budget', 'is_in_collection',\n",
       "       'release_month', 'popular_actors_count', 'rated_unknown', 'rated_R',\n",
       "       'rated_MA', 'rated_Unrated', 'rated_PG', 'rated_TV-14', 'rated_PG-13',\n",
       "       'rated_G', 'rated_Approved', 'rated_TV-Y7', 'genre_News', 'genre_War',\n",
       "       'genre_Talk-Show', 'genre_Reality-TV', 'genre_Musical', 'genre_Mystery',\n",
       "       'genre_Adult', 'genre_Adventure', 'genre_Sci-Fi', 'genre_History',\n",
       "       'genre_Biography', 'genre_Music', 'genre_Game-Show',\n",
       "       'genre_Documentary', 'genre_Western', 'genre_Family', 'genre_Drama',\n",
       "       'genre_Animation', 'genre_Short', 'genre_None', 'genre_Thriller',\n",
       "       'genre_Comedy', 'genre_Action', 'genre_unknown', 'genre_Crime',\n",
       "       'genre_Fantasy', 'genre_Sport', 'genre_Horror', 'genre_Romance'],\n",
       "      dtype='object')"
      ]
     },
     "execution_count": 77,
     "metadata": {},
     "output_type": "execute_result"
    }
   ],
   "source": [
    "#clean up raw data\n",
    "df2 =pd.read_csv('./data/raw_consolidate_data.csv')\n",
    "# remove columns\n",
    "df2=df2.drop(['titleType','originalTitle','endYear','directors','writers','seasonNumber',\n",
    "              'episodeNumber','parentTconst','themoviedb_id','status','Director', 'Writer',\n",
    "              'overview','Plot','DVD','production_companies_id','numVotes','rating1source',\n",
    "       'rating1value', 'rating2source', 'rating2value', 'rating3source',\n",
    "       'rating3value','Metascore','popularity','original_language','production_companies_name','production_countries',\n",
    "       'Awards','BoxOffice','revenue','vote_average','vote_count'],axis=1)\n",
    "#filter out aldult movies\n",
    "df2 =df2.loc[(df2.isAdult==0) ,:]\n",
    "df2['language']=df2['language'].astype(int)\n",
    "df2.belongs_to_collection.fillna(0,inplace=True)\n",
    "#conver flag if movie is in collection\n",
    "df2['is_in_collection'] = df2.apply(lambda x: 0 if x.belongs_to_collection==0 else 1, axis=1)\n",
    "#take month of release\n",
    "x=df2.Released.str.split(' ',expand=True)\n",
    "df2['release_month'] = x.iloc[:,1]\n",
    "df2['release_month'] =  pd.to_datetime(df2['release_month'], format='%b')\n",
    "df2['release_month'] = df2.apply(lambda x: x.release_month.month , axis=1)\n",
    "df2.release_month.fillna(0,inplace=True)\n",
    "df2['release_month']=df2['release_month'].astype(int)\n",
    "df2.rename(columns={'language':'number_of_languages'},inplace=True)\n",
    "\n",
    "#count number of popular actors/actress\n",
    "df2.Actors = df2.Actors.str.lower()\n",
    "x = df2.Actors.str.split(', ',expand=True).rename(columns={0:'A', 1:'B',2:'C',3:'D'})\n",
    "popular = pd.read_csv('./data/popular_actor_actress.csv')\n",
    "popular.names = popular.names.str.lower()\n",
    "popular_names = popular.names.to_list()\n",
    "x['popular1'] = x.apply(lambda y: 1 if y.A in popular_names else 0, axis=1)\n",
    "x['popular2'] = x.apply(lambda y: 1 if y.B in popular_names else 0, axis=1)\n",
    "x['popular3'] = x.apply(lambda y: 1 if y.C in popular_names else 0, axis=1)\n",
    "x['popular4'] = x.apply(lambda y: 1 if y.D in popular_names else 0, axis=1)\n",
    "x['popular']= x.popular1 + x.popular2 + x.popular3 + x.popular4\n",
    "df2['popular_actors_count'] = x.iloc[:,8]\n",
    "\n",
    "#encode rated columns\n",
    "df2.Rated.fillna('unknown',inplace=True)\n",
    "df2.replace({'Rated':{'TV-MA':'MA',\n",
    "                      'TV-PG':'PG',\n",
    "                      'Not Rated':'Unrated',\n",
    "                      'TV-G':'G',\n",
    "                      'APPROVED':'Approved',\n",
    "                      'TV-13':'PG-13',\n",
    "                      '0':'unknown',\n",
    "                      'Open':'Unrated',\n",
    "                      'MA-17':'MA',\n",
    "                      'MA-13':'MA',\n",
    "                      'M':'MA',\n",
    "                      'TV-Y':'del','E10+':'del','NC-17':'del','12':'del','M/PG':'del','18':'del','X':'del','TV-Y7-FV':'del'\n",
    "                      }},inplace=True)\n",
    "df2 = df2.loc[(df2.Rated!='del'),:]\n",
    "rate = df2.Rated.unique().tolist()\n",
    "rate_counts=[]\n",
    "for i in rate:\n",
    "    df2[f'rated_{i}'] = df2.apply(lambda y: 1 if (y.Rated==f'{i}') else 0, axis=1)\n",
    "    rate_counts.append(df2[f'rated_{i}'].sum())\n",
    "#encode genre columns\n",
    "x = df2.genres.str.split(',',expand=True).rename(columns={0:'A', 1:'B',2:'C'})\n",
    "genre1 = x.A.unique().tolist()\n",
    "genre2 = x.B.unique().tolist()\n",
    "genre3 = x.C.unique().tolist()\n",
    "genre = genre1 + genre2 + genre3\n",
    "genre = list(set(genre))\n",
    "genre_counts = []\n",
    "for i in genre:\n",
    "    x[f'{i}'] = x.apply(lambda y: 1 if (y.A==f'{i}') or (y.B==f'{i}') or (y.C==f'{i}') else 0, axis=1)\n",
    "    df2[f'genre_{i}'] = x[f'{i}']\n",
    "    genre_counts.append(df2[f'genre_{i}'].sum())\n",
    "\n",
    "df2=df2.drop(['belongs_to_collection','Released','isAdult','Actors','genres','Rated'],axis=1)\n",
    "\n",
    "df2.columns\n"
   ]
  },
  {
   "cell_type": "markdown",
   "metadata": {},
   "source": [
    "Data visualization"
   ]
  },
  {
   "cell_type": "code",
   "execution_count": 78,
   "metadata": {},
   "outputs": [
    {
     "data": {
      "image/png": "[encoded data removed]",
      "text/plain": [
       "<Figure size 720x720 with 1 Axes>"
      ]
     },
     "metadata": {
      "needs_background": "light"
     },
     "output_type": "display_data"
    }
   ],
   "source": [
    "#plot highest to lowest by genre\n",
    "all_genres = dict(zip(genre, genre_counts))\n",
    "all_genres_df = pd.DataFrame({'Genre': genre, 'Count': genre_counts})\n",
    "all_genres_df.fillna('None',inplace=True)\n",
    "import matplotlib.pyplot as plt \n",
    "import seaborn as sns\n",
    "\n",
    "g = all_genres_df.nlargest(columns=\"Count\", n = 50) \n",
    "plt.figure(figsize=(10,10))\n",
    "ax = sns.barplot(data=g, x= \"Count\", y = \"Genre\")\n",
    "ax.set(ylabel = 'Count')\n",
    "plt.show()\n",
    "\n",
    "\n"
   ]
  },
  {
   "cell_type": "code",
   "execution_count": 79,
   "metadata": {},
   "outputs": [],
   "source": [
    "#clean up genre columns\n",
    "remove_columns_genre = all_genres_df.loc[(all_genres_df.Count<=1624) & (all_genres_df.Genre!='unknown'),: ].Genre.unique()\n",
    "for i in range(0,len(remove_columns_genre)):\n",
    "    remove_columns_genre[i]= 'genre_'+ remove_columns_genre[i]\n",
    "df2.drop(remove_columns_genre,axis=1,inplace=True)   \n"
   ]
  },
  {
   "cell_type": "code",
   "execution_count": 80,
   "metadata": {},
   "outputs": [],
   "source": [
    "#move average rating to the end of the dataframe\n",
    "df2['AverageRating']=df2.averageRating\n",
    "df2.drop(columns=['averageRating'],inplace=True)\n"
   ]
  },
  {
   "cell_type": "code",
   "execution_count": 81,
   "metadata": {},
   "outputs": [
    {
     "data": {
      "image/png": "[encoded data removed]",
      "text/plain": [
       "<Figure size 720x720 with 1 Axes>"
      ]
     },
     "metadata": {
      "needs_background": "light"
     },
     "output_type": "display_data"
    }
   ],
   "source": [
    "#plot highest to lowest by rated\n",
    "all_rated = dict(zip(rate, rate_counts))\n",
    "all_rated_counts = pd.DataFrame({'Rated': rate, 'Count': rate_counts})\n",
    "\n",
    "# all_rated_counts.fillna('None',inplace=True)\n",
    "\n",
    "r = all_rated_counts.nlargest(columns=\"Count\", n = 50) \n",
    "plt.figure(figsize=(10,10))\n",
    "ax = sns.barplot(data=r, x= \"Count\", y = \"Rated\")\n",
    "ax.set(ylabel = 'Count')\n",
    "plt.show()\n"
   ]
  },
  {
   "cell_type": "markdown",
   "metadata": {},
   "source": [
    "Data ready, export to csv file, ready to use"
   ]
  },
  {
   "cell_type": "code",
   "execution_count": 82,
   "metadata": {},
   "outputs": [],
   "source": [
    "#clean up rated columns, and create rating bins\n",
    "df2.drop(['rated_Approved','rated_TV-Y7'],axis=1,inplace=True)\n",
    "df2['budget']=df2['budget'].astype(int)\n",
    "df2['rating_bins'] = pd.cut(df2.AverageRating, [0, 4, 5, 6, 7, 8, 10], labels=['F','E','D','C','B','A'],  right=False)\n",
    "df2.to_csv('./data/clean_raw_data.csv',index=False)"
   ]
  },
  {
   "cell_type": "markdown",
   "metadata": {},
   "source": [
    "Machine learning part"
   ]
  },
  {
   "cell_type": "code",
   "execution_count": 83,
   "metadata": {},
   "outputs": [
    {
     "data": {
      "text/html": [
       "<div>\n",
       "<style scoped>\n",
       "    .dataframe tbody tr th:only-of-type {\n",
       "        vertical-align: middle;\n",
       "    }\n",
       "\n",
       "    .dataframe tbody tr th {\n",
       "        vertical-align: top;\n",
       "    }\n",
       "\n",
       "    .dataframe thead th {\n",
       "        text-align: right;\n",
       "    }\n",
       "</style>\n",
       "<table border=\"1\" class=\"dataframe\">\n",
       "  <thead>\n",
       "    <tr style=\"text-align: right;\">\n",
       "      <th></th>\n",
       "      <th>tconst</th>\n",
       "      <th>primaryTitle</th>\n",
       "      <th>startYear</th>\n",
       "      <th>runtimeMinutes</th>\n",
       "      <th>number_of_languages</th>\n",
       "      <th>budget</th>\n",
       "      <th>is_in_collection</th>\n",
       "      <th>release_month</th>\n",
       "      <th>popular_actors_count</th>\n",
       "      <th>rated_unknown</th>\n",
       "      <th>...</th>\n",
       "      <th>genre_Drama</th>\n",
       "      <th>genre_Thriller</th>\n",
       "      <th>genre_Comedy</th>\n",
       "      <th>genre_Action</th>\n",
       "      <th>genre_unknown</th>\n",
       "      <th>genre_Crime</th>\n",
       "      <th>genre_Horror</th>\n",
       "      <th>genre_Romance</th>\n",
       "      <th>AverageRating</th>\n",
       "      <th>rating_bins</th>\n",
       "    </tr>\n",
       "  </thead>\n",
       "  <tbody>\n",
       "    <tr>\n",
       "      <th>0</th>\n",
       "      <td>tt0013274</td>\n",
       "      <td>Istoriya grazhdanskoy voyny</td>\n",
       "      <td>2021</td>\n",
       "      <td>133</td>\n",
       "      <td>7</td>\n",
       "      <td>0</td>\n",
       "      <td>0</td>\n",
       "      <td>5</td>\n",
       "      <td>0</td>\n",
       "      <td>1</td>\n",
       "      <td>...</td>\n",
       "      <td>0</td>\n",
       "      <td>0</td>\n",
       "      <td>0</td>\n",
       "      <td>0</td>\n",
       "      <td>0</td>\n",
       "      <td>0</td>\n",
       "      <td>0</td>\n",
       "      <td>0</td>\n",
       "      <td>6.4</td>\n",
       "      <td>C</td>\n",
       "    </tr>\n",
       "    <tr>\n",
       "      <th>1</th>\n",
       "      <td>tt0062336</td>\n",
       "      <td>The Tango of the Widower and Its Distorting Mi...</td>\n",
       "      <td>2020</td>\n",
       "      <td>70</td>\n",
       "      <td>10</td>\n",
       "      <td>0</td>\n",
       "      <td>0</td>\n",
       "      <td>9</td>\n",
       "      <td>0</td>\n",
       "      <td>1</td>\n",
       "      <td>...</td>\n",
       "      <td>1</td>\n",
       "      <td>0</td>\n",
       "      <td>0</td>\n",
       "      <td>0</td>\n",
       "      <td>0</td>\n",
       "      <td>0</td>\n",
       "      <td>0</td>\n",
       "      <td>0</td>\n",
       "      <td>6.4</td>\n",
       "      <td>C</td>\n",
       "    </tr>\n",
       "    <tr>\n",
       "      <th>2</th>\n",
       "      <td>tt0069049</td>\n",
       "      <td>The Other Side of the Wind</td>\n",
       "      <td>2018</td>\n",
       "      <td>122</td>\n",
       "      <td>22</td>\n",
       "      <td>12000000</td>\n",
       "      <td>0</td>\n",
       "      <td>11</td>\n",
       "      <td>0</td>\n",
       "      <td>0</td>\n",
       "      <td>...</td>\n",
       "      <td>1</td>\n",
       "      <td>0</td>\n",
       "      <td>0</td>\n",
       "      <td>0</td>\n",
       "      <td>0</td>\n",
       "      <td>0</td>\n",
       "      <td>0</td>\n",
       "      <td>0</td>\n",
       "      <td>6.7</td>\n",
       "      <td>C</td>\n",
       "    </tr>\n",
       "    <tr>\n",
       "      <th>3</th>\n",
       "      <td>tt0083060</td>\n",
       "      <td>The Drive to Win</td>\n",
       "      <td>2019</td>\n",
       "      <td>0</td>\n",
       "      <td>3</td>\n",
       "      <td>0</td>\n",
       "      <td>0</td>\n",
       "      <td>4</td>\n",
       "      <td>0</td>\n",
       "      <td>1</td>\n",
       "      <td>...</td>\n",
       "      <td>1</td>\n",
       "      <td>0</td>\n",
       "      <td>0</td>\n",
       "      <td>0</td>\n",
       "      <td>0</td>\n",
       "      <td>0</td>\n",
       "      <td>0</td>\n",
       "      <td>0</td>\n",
       "      <td>6.6</td>\n",
       "      <td>C</td>\n",
       "    </tr>\n",
       "    <tr>\n",
       "      <th>4</th>\n",
       "      <td>tt0100275</td>\n",
       "      <td>The Wandering Soap Opera</td>\n",
       "      <td>2017</td>\n",
       "      <td>80</td>\n",
       "      <td>8</td>\n",
       "      <td>0</td>\n",
       "      <td>0</td>\n",
       "      <td>5</td>\n",
       "      <td>0</td>\n",
       "      <td>1</td>\n",
       "      <td>...</td>\n",
       "      <td>1</td>\n",
       "      <td>0</td>\n",
       "      <td>1</td>\n",
       "      <td>0</td>\n",
       "      <td>0</td>\n",
       "      <td>0</td>\n",
       "      <td>0</td>\n",
       "      <td>0</td>\n",
       "      <td>6.4</td>\n",
       "      <td>C</td>\n",
       "    </tr>\n",
       "    <tr>\n",
       "      <th>...</th>\n",
       "      <td>...</td>\n",
       "      <td>...</td>\n",
       "      <td>...</td>\n",
       "      <td>...</td>\n",
       "      <td>...</td>\n",
       "      <td>...</td>\n",
       "      <td>...</td>\n",
       "      <td>...</td>\n",
       "      <td>...</td>\n",
       "      <td>...</td>\n",
       "      <td>...</td>\n",
       "      <td>...</td>\n",
       "      <td>...</td>\n",
       "      <td>...</td>\n",
       "      <td>...</td>\n",
       "      <td>...</td>\n",
       "      <td>...</td>\n",
       "      <td>...</td>\n",
       "      <td>...</td>\n",
       "      <td>...</td>\n",
       "      <td>...</td>\n",
       "    </tr>\n",
       "    <tr>\n",
       "      <th>42049</th>\n",
       "      <td>tt9916132</td>\n",
       "      <td>The Mystery of a Buryat Lama</td>\n",
       "      <td>2018</td>\n",
       "      <td>94</td>\n",
       "      <td>1</td>\n",
       "      <td>0</td>\n",
       "      <td>0</td>\n",
       "      <td>8</td>\n",
       "      <td>0</td>\n",
       "      <td>1</td>\n",
       "      <td>...</td>\n",
       "      <td>0</td>\n",
       "      <td>0</td>\n",
       "      <td>0</td>\n",
       "      <td>0</td>\n",
       "      <td>0</td>\n",
       "      <td>0</td>\n",
       "      <td>0</td>\n",
       "      <td>0</td>\n",
       "      <td>4.0</td>\n",
       "      <td>E</td>\n",
       "    </tr>\n",
       "    <tr>\n",
       "      <th>42050</th>\n",
       "      <td>tt9916190</td>\n",
       "      <td>Safeguard</td>\n",
       "      <td>2020</td>\n",
       "      <td>95</td>\n",
       "      <td>6</td>\n",
       "      <td>0</td>\n",
       "      <td>0</td>\n",
       "      <td>11</td>\n",
       "      <td>0</td>\n",
       "      <td>1</td>\n",
       "      <td>...</td>\n",
       "      <td>0</td>\n",
       "      <td>1</td>\n",
       "      <td>0</td>\n",
       "      <td>1</td>\n",
       "      <td>0</td>\n",
       "      <td>0</td>\n",
       "      <td>0</td>\n",
       "      <td>0</td>\n",
       "      <td>3.6</td>\n",
       "      <td>F</td>\n",
       "    </tr>\n",
       "    <tr>\n",
       "      <th>42051</th>\n",
       "      <td>tt9916270</td>\n",
       "      <td>Il talento del calabrone</td>\n",
       "      <td>2020</td>\n",
       "      <td>84</td>\n",
       "      <td>4</td>\n",
       "      <td>0</td>\n",
       "      <td>0</td>\n",
       "      <td>11</td>\n",
       "      <td>0</td>\n",
       "      <td>1</td>\n",
       "      <td>...</td>\n",
       "      <td>0</td>\n",
       "      <td>1</td>\n",
       "      <td>0</td>\n",
       "      <td>0</td>\n",
       "      <td>0</td>\n",
       "      <td>0</td>\n",
       "      <td>0</td>\n",
       "      <td>0</td>\n",
       "      <td>5.8</td>\n",
       "      <td>D</td>\n",
       "    </tr>\n",
       "    <tr>\n",
       "      <th>42052</th>\n",
       "      <td>tt9916362</td>\n",
       "      <td>Coven</td>\n",
       "      <td>2020</td>\n",
       "      <td>92</td>\n",
       "      <td>23</td>\n",
       "      <td>0</td>\n",
       "      <td>0</td>\n",
       "      <td>10</td>\n",
       "      <td>0</td>\n",
       "      <td>0</td>\n",
       "      <td>...</td>\n",
       "      <td>1</td>\n",
       "      <td>0</td>\n",
       "      <td>0</td>\n",
       "      <td>0</td>\n",
       "      <td>0</td>\n",
       "      <td>0</td>\n",
       "      <td>0</td>\n",
       "      <td>0</td>\n",
       "      <td>6.4</td>\n",
       "      <td>C</td>\n",
       "    </tr>\n",
       "    <tr>\n",
       "      <th>42053</th>\n",
       "      <td>tt9916428</td>\n",
       "      <td>The Secret of China</td>\n",
       "      <td>2019</td>\n",
       "      <td>0</td>\n",
       "      <td>5</td>\n",
       "      <td>0</td>\n",
       "      <td>0</td>\n",
       "      <td>8</td>\n",
       "      <td>0</td>\n",
       "      <td>1</td>\n",
       "      <td>...</td>\n",
       "      <td>0</td>\n",
       "      <td>0</td>\n",
       "      <td>0</td>\n",
       "      <td>0</td>\n",
       "      <td>0</td>\n",
       "      <td>0</td>\n",
       "      <td>0</td>\n",
       "      <td>0</td>\n",
       "      <td>3.8</td>\n",
       "      <td>F</td>\n",
       "    </tr>\n",
       "  </tbody>\n",
       "</table>\n",
       "<p>42047 rows × 30 columns</p>\n",
       "</div>"
      ],
      "text/plain": [
       "          tconst                                       primaryTitle  \\\n",
       "0      tt0013274                        Istoriya grazhdanskoy voyny   \n",
       "1      tt0062336  The Tango of the Widower and Its Distorting Mi...   \n",
       "2      tt0069049                         The Other Side of the Wind   \n",
       "3      tt0083060                                   The Drive to Win   \n",
       "4      tt0100275                           The Wandering Soap Opera   \n",
       "...          ...                                                ...   \n",
       "42049  tt9916132                       The Mystery of a Buryat Lama   \n",
       "42050  tt9916190                                          Safeguard   \n",
       "42051  tt9916270                           Il talento del calabrone   \n",
       "42052  tt9916362                                              Coven   \n",
       "42053  tt9916428                                The Secret of China   \n",
       "\n",
       "       startYear  runtimeMinutes  number_of_languages    budget  \\\n",
       "0           2021             133                    7         0   \n",
       "1           2020              70                   10         0   \n",
       "2           2018             122                   22  12000000   \n",
       "3           2019               0                    3         0   \n",
       "4           2017              80                    8         0   \n",
       "...          ...             ...                  ...       ...   \n",
       "42049       2018              94                    1         0   \n",
       "42050       2020              95                    6         0   \n",
       "42051       2020              84                    4         0   \n",
       "42052       2020              92                   23         0   \n",
       "42053       2019               0                    5         0   \n",
       "\n",
       "       is_in_collection  release_month  popular_actors_count  rated_unknown  \\\n",
       "0                     0              5                     0              1   \n",
       "1                     0              9                     0              1   \n",
       "2                     0             11                     0              0   \n",
       "3                     0              4                     0              1   \n",
       "4                     0              5                     0              1   \n",
       "...                 ...            ...                   ...            ...   \n",
       "42049                 0              8                     0              1   \n",
       "42050                 0             11                     0              1   \n",
       "42051                 0             11                     0              1   \n",
       "42052                 0             10                     0              0   \n",
       "42053                 0              8                     0              1   \n",
       "\n",
       "       ...  genre_Drama  genre_Thriller  genre_Comedy  genre_Action  \\\n",
       "0      ...            0               0             0             0   \n",
       "1      ...            1               0             0             0   \n",
       "2      ...            1               0             0             0   \n",
       "3      ...            1               0             0             0   \n",
       "4      ...            1               0             1             0   \n",
       "...    ...          ...             ...           ...           ...   \n",
       "42049  ...            0               0             0             0   \n",
       "42050  ...            0               1             0             1   \n",
       "42051  ...            0               1             0             0   \n",
       "42052  ...            1               0             0             0   \n",
       "42053  ...            0               0             0             0   \n",
       "\n",
       "       genre_unknown  genre_Crime  genre_Horror  genre_Romance  AverageRating  \\\n",
       "0                  0            0             0              0            6.4   \n",
       "1                  0            0             0              0            6.4   \n",
       "2                  0            0             0              0            6.7   \n",
       "3                  0            0             0              0            6.6   \n",
       "4                  0            0             0              0            6.4   \n",
       "...              ...          ...           ...            ...            ...   \n",
       "42049              0            0             0              0            4.0   \n",
       "42050              0            0             0              0            3.6   \n",
       "42051              0            0             0              0            5.8   \n",
       "42052              0            0             0              0            6.4   \n",
       "42053              0            0             0              0            3.8   \n",
       "\n",
       "       rating_bins  \n",
       "0                C  \n",
       "1                C  \n",
       "2                C  \n",
       "3                C  \n",
       "4                C  \n",
       "...            ...  \n",
       "42049            E  \n",
       "42050            F  \n",
       "42051            D  \n",
       "42052            C  \n",
       "42053            F  \n",
       "\n",
       "[42047 rows x 30 columns]"
      ]
     },
     "execution_count": 83,
     "metadata": {},
     "output_type": "execute_result"
    }
   ],
   "source": [
    "from sklearn.model_selection import train_test_split\n",
    "df = pd.read_csv('./data/clean_raw_data.csv')\n",
    "# Drop the null columns where all values are null\n",
    "df = df.dropna(axis='columns', how='all')\n",
    "# Drop the null rows\n",
    "df = df.dropna()\n",
    "df"
   ]
  },
  {
   "cell_type": "code",
   "execution_count": 84,
   "metadata": {},
   "outputs": [
    {
     "data": {
      "text/plain": [
       "Index(['tconst', 'primaryTitle', 'startYear', 'runtimeMinutes',\n",
       "       'number_of_languages', 'budget', 'is_in_collection', 'release_month',\n",
       "       'popular_actors_count', 'rated_unknown', 'rated_R', 'rated_MA',\n",
       "       'rated_Unrated', 'rated_PG', 'rated_TV-14', 'rated_PG-13', 'rated_G',\n",
       "       'genre_Mystery', 'genre_Adventure', 'genre_Documentary', 'genre_Drama',\n",
       "       'genre_Thriller', 'genre_Comedy', 'genre_Action', 'genre_unknown',\n",
       "       'genre_Crime', 'genre_Horror', 'genre_Romance', 'AverageRating',\n",
       "       'rating_bins'],\n",
       "      dtype='object')"
      ]
     },
     "execution_count": 84,
     "metadata": {},
     "output_type": "execute_result"
    }
   ],
   "source": [
    "df.columns"
   ]
  },
  {
   "cell_type": "code",
   "execution_count": 85,
   "metadata": {},
   "outputs": [],
   "source": [
    "selected_features = df.iloc[:,2:28].values"
   ]
  },
  {
   "cell_type": "code",
   "execution_count": 86,
   "metadata": {},
   "outputs": [],
   "source": [
    "y = df.iloc[:,29].values.reshape(-1,1)"
   ]
  },
  {
   "cell_type": "code",
   "execution_count": 87,
   "metadata": {},
   "outputs": [],
   "source": [
    "from sklearn.model_selection import train_test_split\n",
    "\n",
    "X_train, X_test, y_train, y_test = train_test_split(selected_features, y, random_state=2,test_size=.7)"
   ]
  },
  {
   "cell_type": "code",
   "execution_count": 88,
   "metadata": {},
   "outputs": [],
   "source": [
    "# Scale your data\n",
    "from sklearn.preprocessing import MinMaxScaler,StandardScaler\n",
    "X_scaler = StandardScaler().fit(X_train)\n",
    "X_train_scaled = X_scaler.transform(X_train)\n",
    "X_test_scaled = X_scaler.transform(X_test)"
   ]
  },
  {
   "cell_type": "code",
   "execution_count": 89,
   "metadata": {},
   "outputs": [
    {
     "name": "stderr",
     "output_type": "stream",
     "text": [
      "c:\\Users\\datqu\\anaconda3\\envs\\PythonAdv\\lib\\site-packages\\ipykernel_launcher.py:3: DataConversionWarning: A column-vector y was passed when a 1d array was expected. Please change the shape of y to (n_samples,), for example using ravel().\n",
      "  This is separate from the ipykernel package so we can avoid doing imports until\n"
     ]
    }
   ],
   "source": [
    "from sklearn.ensemble import RandomForestClassifier\n",
    "rf = RandomForestClassifier(n_estimators=300,max_features = 'sqrt',min_samples_leaf=2)\n",
    "rf = rf.fit(X_train_scaled, y_train)\n"
   ]
  },
  {
   "cell_type": "code",
   "execution_count": 90,
   "metadata": {},
   "outputs": [
    {
     "name": "stdout",
     "output_type": "stream",
     "text": [
      "Training Data Score: 0.8218645948945617\n",
      "Testing Data Score: 0.3475350796724765\n"
     ]
    }
   ],
   "source": [
    "print(f\"Training Data Score: {rf.score(X_train_scaled, y_train)}\")\n",
    "print(f\"Testing Data Score: {rf.score(X_test_scaled, y_test)}\")"
   ]
  },
  {
   "cell_type": "code",
   "execution_count": null,
   "metadata": {},
   "outputs": [
    {
     "data": {
      "text/plain": [
       "['./models/random_forest.joblib']"
      ]
     },
     "execution_count": 61,
     "metadata": {},
     "output_type": "execute_result"
    }
   ],
   "source": [
    "import joblib\n",
    "joblib.dump(rf, \"./models/random_forest.joblib\")"
   ]
  },
  {
   "cell_type": "markdown",
   "metadata": {},
   "source": [
    "Grid Search"
   ]
  },
  {
   "cell_type": "code",
   "execution_count": 91,
   "metadata": {},
   "outputs": [],
   "source": [
    "# Create the GridSearchCV model\n",
    "from sklearn.model_selection import GridSearchCV\n",
    "search_space = {\n",
    "    'n_estimators': [50,200,300],\n",
    "    'max_features':['sqrt',0.8,0.2],\n",
    "    'min_samples_leaf' : [1,2]\n",
    "    \n",
    "}"
   ]
  },
  {
   "cell_type": "code",
   "execution_count": 92,
   "metadata": {},
   "outputs": [],
   "source": [
    "# Train the model with GridSearch\n",
    "grid = GridSearchCV(rf, search_space, verbose=3)"
   ]
  },
  {
   "cell_type": "code",
   "execution_count": 93,
   "metadata": {},
   "outputs": [
    {
     "name": "stdout",
     "output_type": "stream",
     "text": [
      "Fitting 5 folds for each of 18 candidates, totalling 90 fits\n"
     ]
    },
    {
     "name": "stderr",
     "output_type": "stream",
     "text": [
      "c:\\Users\\datqu\\anaconda3\\envs\\PythonAdv\\lib\\site-packages\\sklearn\\model_selection\\_validation.py:598: DataConversionWarning: A column-vector y was passed when a 1d array was expected. Please change the shape of y to (n_samples,), for example using ravel().\n",
      "  estimator.fit(X_train, y_train, **fit_params)\n"
     ]
    },
    {
     "name": "stdout",
     "output_type": "stream",
     "text": [
      "[CV 1/5] END max_features=sqrt, min_samples_leaf=1, n_estimators=50;, score=0.315 total time=   2.4s\n"
     ]
    },
    {
     "name": "stderr",
     "output_type": "stream",
     "text": [
      "c:\\Users\\datqu\\anaconda3\\envs\\PythonAdv\\lib\\site-packages\\sklearn\\model_selection\\_validation.py:598: DataConversionWarning: A column-vector y was passed when a 1d array was expected. Please change the shape of y to (n_samples,), for example using ravel().\n",
      "  estimator.fit(X_train, y_train, **fit_params)\n"
     ]
    },
    {
     "name": "stdout",
     "output_type": "stream",
     "text": [
      "[CV 2/5] END max_features=sqrt, min_samples_leaf=1, n_estimators=50;, score=0.311 total time=   2.1s\n"
     ]
    },
    {
     "name": "stderr",
     "output_type": "stream",
     "text": [
      "c:\\Users\\datqu\\anaconda3\\envs\\PythonAdv\\lib\\site-packages\\sklearn\\model_selection\\_validation.py:598: DataConversionWarning: A column-vector y was passed when a 1d array was expected. Please change the shape of y to (n_samples,), for example using ravel().\n",
      "  estimator.fit(X_train, y_train, **fit_params)\n"
     ]
    },
    {
     "name": "stdout",
     "output_type": "stream",
     "text": [
      "[CV 3/5] END max_features=sqrt, min_samples_leaf=1, n_estimators=50;, score=0.327 total time=   2.7s\n"
     ]
    },
    {
     "name": "stderr",
     "output_type": "stream",
     "text": [
      "c:\\Users\\datqu\\anaconda3\\envs\\PythonAdv\\lib\\site-packages\\sklearn\\model_selection\\_validation.py:598: DataConversionWarning: A column-vector y was passed when a 1d array was expected. Please change the shape of y to (n_samples,), for example using ravel().\n",
      "  estimator.fit(X_train, y_train, **fit_params)\n"
     ]
    },
    {
     "name": "stdout",
     "output_type": "stream",
     "text": [
      "[CV 4/5] END max_features=sqrt, min_samples_leaf=1, n_estimators=50;, score=0.302 total time=   2.1s\n"
     ]
    },
    {
     "name": "stderr",
     "output_type": "stream",
     "text": [
      "c:\\Users\\datqu\\anaconda3\\envs\\PythonAdv\\lib\\site-packages\\sklearn\\model_selection\\_validation.py:598: DataConversionWarning: A column-vector y was passed when a 1d array was expected. Please change the shape of y to (n_samples,), for example using ravel().\n",
      "  estimator.fit(X_train, y_train, **fit_params)\n"
     ]
    },
    {
     "name": "stdout",
     "output_type": "stream",
     "text": [
      "[CV 5/5] END max_features=sqrt, min_samples_leaf=1, n_estimators=50;, score=0.334 total time=   2.2s\n"
     ]
    },
    {
     "name": "stderr",
     "output_type": "stream",
     "text": [
      "c:\\Users\\datqu\\anaconda3\\envs\\PythonAdv\\lib\\site-packages\\sklearn\\model_selection\\_validation.py:598: DataConversionWarning: A column-vector y was passed when a 1d array was expected. Please change the shape of y to (n_samples,), for example using ravel().\n",
      "  estimator.fit(X_train, y_train, **fit_params)\n"
     ]
    },
    {
     "name": "stdout",
     "output_type": "stream",
     "text": [
      "[CV 1/5] END max_features=sqrt, min_samples_leaf=1, n_estimators=200;, score=0.319 total time=   8.0s\n"
     ]
    },
    {
     "name": "stderr",
     "output_type": "stream",
     "text": [
      "c:\\Users\\datqu\\anaconda3\\envs\\PythonAdv\\lib\\site-packages\\sklearn\\model_selection\\_validation.py:598: DataConversionWarning: A column-vector y was passed when a 1d array was expected. Please change the shape of y to (n_samples,), for example using ravel().\n",
      "  estimator.fit(X_train, y_train, **fit_params)\n"
     ]
    },
    {
     "name": "stdout",
     "output_type": "stream",
     "text": [
      "[CV 2/5] END max_features=sqrt, min_samples_leaf=1, n_estimators=200;, score=0.319 total time=   9.8s\n"
     ]
    },
    {
     "name": "stderr",
     "output_type": "stream",
     "text": [
      "c:\\Users\\datqu\\anaconda3\\envs\\PythonAdv\\lib\\site-packages\\sklearn\\model_selection\\_validation.py:598: DataConversionWarning: A column-vector y was passed when a 1d array was expected. Please change the shape of y to (n_samples,), for example using ravel().\n",
      "  estimator.fit(X_train, y_train, **fit_params)\n"
     ]
    },
    {
     "name": "stdout",
     "output_type": "stream",
     "text": [
      "[CV 3/5] END max_features=sqrt, min_samples_leaf=1, n_estimators=200;, score=0.327 total time=  12.0s\n"
     ]
    },
    {
     "name": "stderr",
     "output_type": "stream",
     "text": [
      "c:\\Users\\datqu\\anaconda3\\envs\\PythonAdv\\lib\\site-packages\\sklearn\\model_selection\\_validation.py:598: DataConversionWarning: A column-vector y was passed when a 1d array was expected. Please change the shape of y to (n_samples,), for example using ravel().\n",
      "  estimator.fit(X_train, y_train, **fit_params)\n"
     ]
    },
    {
     "name": "stdout",
     "output_type": "stream",
     "text": [
      "[CV 4/5] END max_features=sqrt, min_samples_leaf=1, n_estimators=200;, score=0.300 total time=  12.3s\n"
     ]
    },
    {
     "name": "stderr",
     "output_type": "stream",
     "text": [
      "c:\\Users\\datqu\\anaconda3\\envs\\PythonAdv\\lib\\site-packages\\sklearn\\model_selection\\_validation.py:598: DataConversionWarning: A column-vector y was passed when a 1d array was expected. Please change the shape of y to (n_samples,), for example using ravel().\n",
      "  estimator.fit(X_train, y_train, **fit_params)\n"
     ]
    },
    {
     "name": "stdout",
     "output_type": "stream",
     "text": [
      "[CV 5/5] END max_features=sqrt, min_samples_leaf=1, n_estimators=200;, score=0.326 total time=  10.1s\n"
     ]
    },
    {
     "name": "stderr",
     "output_type": "stream",
     "text": [
      "c:\\Users\\datqu\\anaconda3\\envs\\PythonAdv\\lib\\site-packages\\sklearn\\model_selection\\_validation.py:598: DataConversionWarning: A column-vector y was passed when a 1d array was expected. Please change the shape of y to (n_samples,), for example using ravel().\n",
      "  estimator.fit(X_train, y_train, **fit_params)\n"
     ]
    },
    {
     "name": "stdout",
     "output_type": "stream",
     "text": [
      "[CV 1/5] END max_features=sqrt, min_samples_leaf=1, n_estimators=300;, score=0.323 total time=  17.2s\n"
     ]
    },
    {
     "name": "stderr",
     "output_type": "stream",
     "text": [
      "c:\\Users\\datqu\\anaconda3\\envs\\PythonAdv\\lib\\site-packages\\sklearn\\model_selection\\_validation.py:598: DataConversionWarning: A column-vector y was passed when a 1d array was expected. Please change the shape of y to (n_samples,), for example using ravel().\n",
      "  estimator.fit(X_train, y_train, **fit_params)\n"
     ]
    },
    {
     "name": "stdout",
     "output_type": "stream",
     "text": [
      "[CV 2/5] END max_features=sqrt, min_samples_leaf=1, n_estimators=300;, score=0.322 total time=  20.1s\n"
     ]
    },
    {
     "name": "stderr",
     "output_type": "stream",
     "text": [
      "c:\\Users\\datqu\\anaconda3\\envs\\PythonAdv\\lib\\site-packages\\sklearn\\model_selection\\_validation.py:598: DataConversionWarning: A column-vector y was passed when a 1d array was expected. Please change the shape of y to (n_samples,), for example using ravel().\n",
      "  estimator.fit(X_train, y_train, **fit_params)\n"
     ]
    },
    {
     "name": "stdout",
     "output_type": "stream",
     "text": [
      "[CV 3/5] END max_features=sqrt, min_samples_leaf=1, n_estimators=300;, score=0.319 total time=  18.4s\n"
     ]
    },
    {
     "name": "stderr",
     "output_type": "stream",
     "text": [
      "c:\\Users\\datqu\\anaconda3\\envs\\PythonAdv\\lib\\site-packages\\sklearn\\model_selection\\_validation.py:598: DataConversionWarning: A column-vector y was passed when a 1d array was expected. Please change the shape of y to (n_samples,), for example using ravel().\n",
      "  estimator.fit(X_train, y_train, **fit_params)\n"
     ]
    },
    {
     "name": "stdout",
     "output_type": "stream",
     "text": [
      "[CV 4/5] END max_features=sqrt, min_samples_leaf=1, n_estimators=300;, score=0.306 total time=  17.3s\n"
     ]
    },
    {
     "name": "stderr",
     "output_type": "stream",
     "text": [
      "c:\\Users\\datqu\\anaconda3\\envs\\PythonAdv\\lib\\site-packages\\sklearn\\model_selection\\_validation.py:598: DataConversionWarning: A column-vector y was passed when a 1d array was expected. Please change the shape of y to (n_samples,), for example using ravel().\n",
      "  estimator.fit(X_train, y_train, **fit_params)\n"
     ]
    },
    {
     "name": "stdout",
     "output_type": "stream",
     "text": [
      "[CV 5/5] END max_features=sqrt, min_samples_leaf=1, n_estimators=300;, score=0.332 total time=  19.5s\n"
     ]
    },
    {
     "name": "stderr",
     "output_type": "stream",
     "text": [
      "c:\\Users\\datqu\\anaconda3\\envs\\PythonAdv\\lib\\site-packages\\sklearn\\model_selection\\_validation.py:598: DataConversionWarning: A column-vector y was passed when a 1d array was expected. Please change the shape of y to (n_samples,), for example using ravel().\n",
      "  estimator.fit(X_train, y_train, **fit_params)\n"
     ]
    },
    {
     "name": "stdout",
     "output_type": "stream",
     "text": [
      "[CV 1/5] END max_features=sqrt, min_samples_leaf=2, n_estimators=50;, score=0.331 total time=   1.9s\n"
     ]
    },
    {
     "name": "stderr",
     "output_type": "stream",
     "text": [
      "c:\\Users\\datqu\\anaconda3\\envs\\PythonAdv\\lib\\site-packages\\sklearn\\model_selection\\_validation.py:598: DataConversionWarning: A column-vector y was passed when a 1d array was expected. Please change the shape of y to (n_samples,), for example using ravel().\n",
      "  estimator.fit(X_train, y_train, **fit_params)\n"
     ]
    },
    {
     "name": "stdout",
     "output_type": "stream",
     "text": [
      "[CV 2/5] END max_features=sqrt, min_samples_leaf=2, n_estimators=50;, score=0.344 total time=   1.4s\n"
     ]
    },
    {
     "name": "stderr",
     "output_type": "stream",
     "text": [
      "c:\\Users\\datqu\\anaconda3\\envs\\PythonAdv\\lib\\site-packages\\sklearn\\model_selection\\_validation.py:598: DataConversionWarning: A column-vector y was passed when a 1d array was expected. Please change the shape of y to (n_samples,), for example using ravel().\n",
      "  estimator.fit(X_train, y_train, **fit_params)\n"
     ]
    },
    {
     "name": "stdout",
     "output_type": "stream",
     "text": [
      "[CV 3/5] END max_features=sqrt, min_samples_leaf=2, n_estimators=50;, score=0.343 total time=   1.7s\n"
     ]
    },
    {
     "name": "stderr",
     "output_type": "stream",
     "text": [
      "c:\\Users\\datqu\\anaconda3\\envs\\PythonAdv\\lib\\site-packages\\sklearn\\model_selection\\_validation.py:598: DataConversionWarning: A column-vector y was passed when a 1d array was expected. Please change the shape of y to (n_samples,), for example using ravel().\n",
      "  estimator.fit(X_train, y_train, **fit_params)\n"
     ]
    },
    {
     "name": "stdout",
     "output_type": "stream",
     "text": [
      "[CV 4/5] END max_features=sqrt, min_samples_leaf=2, n_estimators=50;, score=0.325 total time=   1.6s\n"
     ]
    },
    {
     "name": "stderr",
     "output_type": "stream",
     "text": [
      "c:\\Users\\datqu\\anaconda3\\envs\\PythonAdv\\lib\\site-packages\\sklearn\\model_selection\\_validation.py:598: DataConversionWarning: A column-vector y was passed when a 1d array was expected. Please change the shape of y to (n_samples,), for example using ravel().\n",
      "  estimator.fit(X_train, y_train, **fit_params)\n"
     ]
    },
    {
     "name": "stdout",
     "output_type": "stream",
     "text": [
      "[CV 5/5] END max_features=sqrt, min_samples_leaf=2, n_estimators=50;, score=0.357 total time=   2.3s\n"
     ]
    },
    {
     "name": "stderr",
     "output_type": "stream",
     "text": [
      "c:\\Users\\datqu\\anaconda3\\envs\\PythonAdv\\lib\\site-packages\\sklearn\\model_selection\\_validation.py:598: DataConversionWarning: A column-vector y was passed when a 1d array was expected. Please change the shape of y to (n_samples,), for example using ravel().\n",
      "  estimator.fit(X_train, y_train, **fit_params)\n"
     ]
    },
    {
     "name": "stdout",
     "output_type": "stream",
     "text": [
      "[CV 1/5] END max_features=sqrt, min_samples_leaf=2, n_estimators=200;, score=0.344 total time=   6.9s\n"
     ]
    },
    {
     "name": "stderr",
     "output_type": "stream",
     "text": [
      "c:\\Users\\datqu\\anaconda3\\envs\\PythonAdv\\lib\\site-packages\\sklearn\\model_selection\\_validation.py:598: DataConversionWarning: A column-vector y was passed when a 1d array was expected. Please change the shape of y to (n_samples,), for example using ravel().\n",
      "  estimator.fit(X_train, y_train, **fit_params)\n"
     ]
    },
    {
     "name": "stdout",
     "output_type": "stream",
     "text": [
      "[CV 2/5] END max_features=sqrt, min_samples_leaf=2, n_estimators=200;, score=0.349 total time=   7.4s\n"
     ]
    },
    {
     "name": "stderr",
     "output_type": "stream",
     "text": [
      "c:\\Users\\datqu\\anaconda3\\envs\\PythonAdv\\lib\\site-packages\\sklearn\\model_selection\\_validation.py:598: DataConversionWarning: A column-vector y was passed when a 1d array was expected. Please change the shape of y to (n_samples,), for example using ravel().\n",
      "  estimator.fit(X_train, y_train, **fit_params)\n"
     ]
    },
    {
     "name": "stdout",
     "output_type": "stream",
     "text": [
      "[CV 3/5] END max_features=sqrt, min_samples_leaf=2, n_estimators=200;, score=0.344 total time=   7.9s\n"
     ]
    },
    {
     "name": "stderr",
     "output_type": "stream",
     "text": [
      "c:\\Users\\datqu\\anaconda3\\envs\\PythonAdv\\lib\\site-packages\\sklearn\\model_selection\\_validation.py:598: DataConversionWarning: A column-vector y was passed when a 1d array was expected. Please change the shape of y to (n_samples,), for example using ravel().\n",
      "  estimator.fit(X_train, y_train, **fit_params)\n"
     ]
    },
    {
     "name": "stdout",
     "output_type": "stream",
     "text": [
      "[CV 4/5] END max_features=sqrt, min_samples_leaf=2, n_estimators=200;, score=0.334 total time=   7.3s\n"
     ]
    },
    {
     "name": "stderr",
     "output_type": "stream",
     "text": [
      "c:\\Users\\datqu\\anaconda3\\envs\\PythonAdv\\lib\\site-packages\\sklearn\\model_selection\\_validation.py:598: DataConversionWarning: A column-vector y was passed when a 1d array was expected. Please change the shape of y to (n_samples,), for example using ravel().\n",
      "  estimator.fit(X_train, y_train, **fit_params)\n"
     ]
    },
    {
     "name": "stdout",
     "output_type": "stream",
     "text": [
      "[CV 5/5] END max_features=sqrt, min_samples_leaf=2, n_estimators=200;, score=0.362 total time=   7.6s\n"
     ]
    },
    {
     "name": "stderr",
     "output_type": "stream",
     "text": [
      "c:\\Users\\datqu\\anaconda3\\envs\\PythonAdv\\lib\\site-packages\\sklearn\\model_selection\\_validation.py:598: DataConversionWarning: A column-vector y was passed when a 1d array was expected. Please change the shape of y to (n_samples,), for example using ravel().\n",
      "  estimator.fit(X_train, y_train, **fit_params)\n"
     ]
    },
    {
     "name": "stdout",
     "output_type": "stream",
     "text": [
      "[CV 1/5] END max_features=sqrt, min_samples_leaf=2, n_estimators=300;, score=0.343 total time=  14.4s\n"
     ]
    },
    {
     "name": "stderr",
     "output_type": "stream",
     "text": [
      "c:\\Users\\datqu\\anaconda3\\envs\\PythonAdv\\lib\\site-packages\\sklearn\\model_selection\\_validation.py:598: DataConversionWarning: A column-vector y was passed when a 1d array was expected. Please change the shape of y to (n_samples,), for example using ravel().\n",
      "  estimator.fit(X_train, y_train, **fit_params)\n"
     ]
    },
    {
     "name": "stdout",
     "output_type": "stream",
     "text": [
      "[CV 2/5] END max_features=sqrt, min_samples_leaf=2, n_estimators=300;, score=0.347 total time=  12.3s\n"
     ]
    },
    {
     "name": "stderr",
     "output_type": "stream",
     "text": [
      "c:\\Users\\datqu\\anaconda3\\envs\\PythonAdv\\lib\\site-packages\\sklearn\\model_selection\\_validation.py:598: DataConversionWarning: A column-vector y was passed when a 1d array was expected. Please change the shape of y to (n_samples,), for example using ravel().\n",
      "  estimator.fit(X_train, y_train, **fit_params)\n"
     ]
    },
    {
     "name": "stdout",
     "output_type": "stream",
     "text": [
      "[CV 3/5] END max_features=sqrt, min_samples_leaf=2, n_estimators=300;, score=0.346 total time=  10.0s\n"
     ]
    },
    {
     "name": "stderr",
     "output_type": "stream",
     "text": [
      "c:\\Users\\datqu\\anaconda3\\envs\\PythonAdv\\lib\\site-packages\\sklearn\\model_selection\\_validation.py:598: DataConversionWarning: A column-vector y was passed when a 1d array was expected. Please change the shape of y to (n_samples,), for example using ravel().\n",
      "  estimator.fit(X_train, y_train, **fit_params)\n"
     ]
    },
    {
     "name": "stdout",
     "output_type": "stream",
     "text": [
      "[CV 4/5] END max_features=sqrt, min_samples_leaf=2, n_estimators=300;, score=0.335 total time=   9.0s\n"
     ]
    },
    {
     "name": "stderr",
     "output_type": "stream",
     "text": [
      "c:\\Users\\datqu\\anaconda3\\envs\\PythonAdv\\lib\\site-packages\\sklearn\\model_selection\\_validation.py:598: DataConversionWarning: A column-vector y was passed when a 1d array was expected. Please change the shape of y to (n_samples,), for example using ravel().\n",
      "  estimator.fit(X_train, y_train, **fit_params)\n"
     ]
    },
    {
     "name": "stdout",
     "output_type": "stream",
     "text": [
      "[CV 5/5] END max_features=sqrt, min_samples_leaf=2, n_estimators=300;, score=0.357 total time=   9.9s\n"
     ]
    },
    {
     "name": "stderr",
     "output_type": "stream",
     "text": [
      "c:\\Users\\datqu\\anaconda3\\envs\\PythonAdv\\lib\\site-packages\\sklearn\\model_selection\\_validation.py:598: DataConversionWarning: A column-vector y was passed when a 1d array was expected. Please change the shape of y to (n_samples,), for example using ravel().\n",
      "  estimator.fit(X_train, y_train, **fit_params)\n"
     ]
    },
    {
     "name": "stdout",
     "output_type": "stream",
     "text": [
      "[CV 1/5] END max_features=0.8, min_samples_leaf=1, n_estimators=50;, score=0.313 total time=   6.3s\n"
     ]
    },
    {
     "name": "stderr",
     "output_type": "stream",
     "text": [
      "c:\\Users\\datqu\\anaconda3\\envs\\PythonAdv\\lib\\site-packages\\sklearn\\model_selection\\_validation.py:598: DataConversionWarning: A column-vector y was passed when a 1d array was expected. Please change the shape of y to (n_samples,), for example using ravel().\n",
      "  estimator.fit(X_train, y_train, **fit_params)\n"
     ]
    },
    {
     "name": "stdout",
     "output_type": "stream",
     "text": [
      "[CV 2/5] END max_features=0.8, min_samples_leaf=1, n_estimators=50;, score=0.314 total time=   6.4s\n"
     ]
    },
    {
     "name": "stderr",
     "output_type": "stream",
     "text": [
      "c:\\Users\\datqu\\anaconda3\\envs\\PythonAdv\\lib\\site-packages\\sklearn\\model_selection\\_validation.py:598: DataConversionWarning: A column-vector y was passed when a 1d array was expected. Please change the shape of y to (n_samples,), for example using ravel().\n",
      "  estimator.fit(X_train, y_train, **fit_params)\n"
     ]
    },
    {
     "name": "stdout",
     "output_type": "stream",
     "text": [
      "[CV 3/5] END max_features=0.8, min_samples_leaf=1, n_estimators=50;, score=0.319 total time=   3.8s\n"
     ]
    },
    {
     "name": "stderr",
     "output_type": "stream",
     "text": [
      "c:\\Users\\datqu\\anaconda3\\envs\\PythonAdv\\lib\\site-packages\\sklearn\\model_selection\\_validation.py:598: DataConversionWarning: A column-vector y was passed when a 1d array was expected. Please change the shape of y to (n_samples,), for example using ravel().\n",
      "  estimator.fit(X_train, y_train, **fit_params)\n"
     ]
    },
    {
     "name": "stdout",
     "output_type": "stream",
     "text": [
      "[CV 4/5] END max_features=0.8, min_samples_leaf=1, n_estimators=50;, score=0.314 total time=   3.7s\n"
     ]
    },
    {
     "name": "stderr",
     "output_type": "stream",
     "text": [
      "c:\\Users\\datqu\\anaconda3\\envs\\PythonAdv\\lib\\site-packages\\sklearn\\model_selection\\_validation.py:598: DataConversionWarning: A column-vector y was passed when a 1d array was expected. Please change the shape of y to (n_samples,), for example using ravel().\n",
      "  estimator.fit(X_train, y_train, **fit_params)\n"
     ]
    },
    {
     "name": "stdout",
     "output_type": "stream",
     "text": [
      "[CV 5/5] END max_features=0.8, min_samples_leaf=1, n_estimators=50;, score=0.317 total time=   3.4s\n"
     ]
    },
    {
     "name": "stderr",
     "output_type": "stream",
     "text": [
      "c:\\Users\\datqu\\anaconda3\\envs\\PythonAdv\\lib\\site-packages\\sklearn\\model_selection\\_validation.py:598: DataConversionWarning: A column-vector y was passed when a 1d array was expected. Please change the shape of y to (n_samples,), for example using ravel().\n",
      "  estimator.fit(X_train, y_train, **fit_params)\n"
     ]
    },
    {
     "name": "stdout",
     "output_type": "stream",
     "text": [
      "[CV 1/5] END max_features=0.8, min_samples_leaf=1, n_estimators=200;, score=0.314 total time=  23.7s\n"
     ]
    },
    {
     "name": "stderr",
     "output_type": "stream",
     "text": [
      "c:\\Users\\datqu\\anaconda3\\envs\\PythonAdv\\lib\\site-packages\\sklearn\\model_selection\\_validation.py:598: DataConversionWarning: A column-vector y was passed when a 1d array was expected. Please change the shape of y to (n_samples,), for example using ravel().\n",
      "  estimator.fit(X_train, y_train, **fit_params)\n"
     ]
    },
    {
     "name": "stdout",
     "output_type": "stream",
     "text": [
      "[CV 2/5] END max_features=0.8, min_samples_leaf=1, n_estimators=200;, score=0.315 total time=  17.7s\n"
     ]
    },
    {
     "name": "stderr",
     "output_type": "stream",
     "text": [
      "c:\\Users\\datqu\\anaconda3\\envs\\PythonAdv\\lib\\site-packages\\sklearn\\model_selection\\_validation.py:598: DataConversionWarning: A column-vector y was passed when a 1d array was expected. Please change the shape of y to (n_samples,), for example using ravel().\n",
      "  estimator.fit(X_train, y_train, **fit_params)\n"
     ]
    },
    {
     "name": "stdout",
     "output_type": "stream",
     "text": [
      "[CV 3/5] END max_features=0.8, min_samples_leaf=1, n_estimators=200;, score=0.317 total time=  23.4s\n"
     ]
    },
    {
     "name": "stderr",
     "output_type": "stream",
     "text": [
      "c:\\Users\\datqu\\anaconda3\\envs\\PythonAdv\\lib\\site-packages\\sklearn\\model_selection\\_validation.py:598: DataConversionWarning: A column-vector y was passed when a 1d array was expected. Please change the shape of y to (n_samples,), for example using ravel().\n",
      "  estimator.fit(X_train, y_train, **fit_params)\n"
     ]
    },
    {
     "name": "stdout",
     "output_type": "stream",
     "text": [
      "[CV 4/5] END max_features=0.8, min_samples_leaf=1, n_estimators=200;, score=0.308 total time=  19.8s\n"
     ]
    },
    {
     "name": "stderr",
     "output_type": "stream",
     "text": [
      "c:\\Users\\datqu\\anaconda3\\envs\\PythonAdv\\lib\\site-packages\\sklearn\\model_selection\\_validation.py:598: DataConversionWarning: A column-vector y was passed when a 1d array was expected. Please change the shape of y to (n_samples,), for example using ravel().\n",
      "  estimator.fit(X_train, y_train, **fit_params)\n"
     ]
    },
    {
     "name": "stdout",
     "output_type": "stream",
     "text": [
      "[CV 5/5] END max_features=0.8, min_samples_leaf=1, n_estimators=200;, score=0.324 total time=  20.3s\n"
     ]
    },
    {
     "name": "stderr",
     "output_type": "stream",
     "text": [
      "c:\\Users\\datqu\\anaconda3\\envs\\PythonAdv\\lib\\site-packages\\sklearn\\model_selection\\_validation.py:598: DataConversionWarning: A column-vector y was passed when a 1d array was expected. Please change the shape of y to (n_samples,), for example using ravel().\n",
      "  estimator.fit(X_train, y_train, **fit_params)\n"
     ]
    },
    {
     "name": "stdout",
     "output_type": "stream",
     "text": [
      "[CV 1/5] END max_features=0.8, min_samples_leaf=1, n_estimators=300;, score=0.308 total time=  32.9s\n"
     ]
    },
    {
     "name": "stderr",
     "output_type": "stream",
     "text": [
      "c:\\Users\\datqu\\anaconda3\\envs\\PythonAdv\\lib\\site-packages\\sklearn\\model_selection\\_validation.py:598: DataConversionWarning: A column-vector y was passed when a 1d array was expected. Please change the shape of y to (n_samples,), for example using ravel().\n",
      "  estimator.fit(X_train, y_train, **fit_params)\n"
     ]
    },
    {
     "name": "stdout",
     "output_type": "stream",
     "text": [
      "[CV 2/5] END max_features=0.8, min_samples_leaf=1, n_estimators=300;, score=0.321 total time=  27.6s\n"
     ]
    },
    {
     "name": "stderr",
     "output_type": "stream",
     "text": [
      "c:\\Users\\datqu\\anaconda3\\envs\\PythonAdv\\lib\\site-packages\\sklearn\\model_selection\\_validation.py:598: DataConversionWarning: A column-vector y was passed when a 1d array was expected. Please change the shape of y to (n_samples,), for example using ravel().\n",
      "  estimator.fit(X_train, y_train, **fit_params)\n"
     ]
    },
    {
     "name": "stdout",
     "output_type": "stream",
     "text": [
      "[CV 3/5] END max_features=0.8, min_samples_leaf=1, n_estimators=300;, score=0.319 total time=  31.6s\n"
     ]
    },
    {
     "name": "stderr",
     "output_type": "stream",
     "text": [
      "c:\\Users\\datqu\\anaconda3\\envs\\PythonAdv\\lib\\site-packages\\sklearn\\model_selection\\_validation.py:598: DataConversionWarning: A column-vector y was passed when a 1d array was expected. Please change the shape of y to (n_samples,), for example using ravel().\n",
      "  estimator.fit(X_train, y_train, **fit_params)\n"
     ]
    },
    {
     "name": "stdout",
     "output_type": "stream",
     "text": [
      "[CV 4/5] END max_features=0.8, min_samples_leaf=1, n_estimators=300;, score=0.309 total time=  25.9s\n"
     ]
    },
    {
     "name": "stderr",
     "output_type": "stream",
     "text": [
      "c:\\Users\\datqu\\anaconda3\\envs\\PythonAdv\\lib\\site-packages\\sklearn\\model_selection\\_validation.py:598: DataConversionWarning: A column-vector y was passed when a 1d array was expected. Please change the shape of y to (n_samples,), for example using ravel().\n",
      "  estimator.fit(X_train, y_train, **fit_params)\n"
     ]
    },
    {
     "name": "stdout",
     "output_type": "stream",
     "text": [
      "[CV 5/5] END max_features=0.8, min_samples_leaf=1, n_estimators=300;, score=0.328 total time=  23.0s\n"
     ]
    },
    {
     "name": "stderr",
     "output_type": "stream",
     "text": [
      "c:\\Users\\datqu\\anaconda3\\envs\\PythonAdv\\lib\\site-packages\\sklearn\\model_selection\\_validation.py:598: DataConversionWarning: A column-vector y was passed when a 1d array was expected. Please change the shape of y to (n_samples,), for example using ravel().\n",
      "  estimator.fit(X_train, y_train, **fit_params)\n"
     ]
    },
    {
     "name": "stdout",
     "output_type": "stream",
     "text": [
      "[CV 1/5] END max_features=0.8, min_samples_leaf=2, n_estimators=50;, score=0.321 total time=   3.7s\n"
     ]
    },
    {
     "name": "stderr",
     "output_type": "stream",
     "text": [
      "c:\\Users\\datqu\\anaconda3\\envs\\PythonAdv\\lib\\site-packages\\sklearn\\model_selection\\_validation.py:598: DataConversionWarning: A column-vector y was passed when a 1d array was expected. Please change the shape of y to (n_samples,), for example using ravel().\n",
      "  estimator.fit(X_train, y_train, **fit_params)\n"
     ]
    },
    {
     "name": "stdout",
     "output_type": "stream",
     "text": [
      "[CV 2/5] END max_features=0.8, min_samples_leaf=2, n_estimators=50;, score=0.321 total time=   4.5s\n"
     ]
    },
    {
     "name": "stderr",
     "output_type": "stream",
     "text": [
      "c:\\Users\\datqu\\anaconda3\\envs\\PythonAdv\\lib\\site-packages\\sklearn\\model_selection\\_validation.py:598: DataConversionWarning: A column-vector y was passed when a 1d array was expected. Please change the shape of y to (n_samples,), for example using ravel().\n",
      "  estimator.fit(X_train, y_train, **fit_params)\n"
     ]
    },
    {
     "name": "stdout",
     "output_type": "stream",
     "text": [
      "[CV 3/5] END max_features=0.8, min_samples_leaf=2, n_estimators=50;, score=0.327 total time=   4.6s\n"
     ]
    },
    {
     "name": "stderr",
     "output_type": "stream",
     "text": [
      "c:\\Users\\datqu\\anaconda3\\envs\\PythonAdv\\lib\\site-packages\\sklearn\\model_selection\\_validation.py:598: DataConversionWarning: A column-vector y was passed when a 1d array was expected. Please change the shape of y to (n_samples,), for example using ravel().\n",
      "  estimator.fit(X_train, y_train, **fit_params)\n"
     ]
    },
    {
     "name": "stdout",
     "output_type": "stream",
     "text": [
      "[CV 4/5] END max_features=0.8, min_samples_leaf=2, n_estimators=50;, score=0.325 total time=   2.9s\n"
     ]
    },
    {
     "name": "stderr",
     "output_type": "stream",
     "text": [
      "c:\\Users\\datqu\\anaconda3\\envs\\PythonAdv\\lib\\site-packages\\sklearn\\model_selection\\_validation.py:598: DataConversionWarning: A column-vector y was passed when a 1d array was expected. Please change the shape of y to (n_samples,), for example using ravel().\n",
      "  estimator.fit(X_train, y_train, **fit_params)\n"
     ]
    },
    {
     "name": "stdout",
     "output_type": "stream",
     "text": [
      "[CV 5/5] END max_features=0.8, min_samples_leaf=2, n_estimators=50;, score=0.339 total time=   4.6s\n"
     ]
    },
    {
     "name": "stderr",
     "output_type": "stream",
     "text": [
      "c:\\Users\\datqu\\anaconda3\\envs\\PythonAdv\\lib\\site-packages\\sklearn\\model_selection\\_validation.py:598: DataConversionWarning: A column-vector y was passed when a 1d array was expected. Please change the shape of y to (n_samples,), for example using ravel().\n",
      "  estimator.fit(X_train, y_train, **fit_params)\n"
     ]
    },
    {
     "name": "stdout",
     "output_type": "stream",
     "text": [
      "[CV 1/5] END max_features=0.8, min_samples_leaf=2, n_estimators=200;, score=0.329 total time=  15.4s\n"
     ]
    },
    {
     "name": "stderr",
     "output_type": "stream",
     "text": [
      "c:\\Users\\datqu\\anaconda3\\envs\\PythonAdv\\lib\\site-packages\\sklearn\\model_selection\\_validation.py:598: DataConversionWarning: A column-vector y was passed when a 1d array was expected. Please change the shape of y to (n_samples,), for example using ravel().\n",
      "  estimator.fit(X_train, y_train, **fit_params)\n"
     ]
    },
    {
     "name": "stdout",
     "output_type": "stream",
     "text": [
      "[CV 2/5] END max_features=0.8, min_samples_leaf=2, n_estimators=200;, score=0.329 total time=  17.5s\n"
     ]
    },
    {
     "name": "stderr",
     "output_type": "stream",
     "text": [
      "c:\\Users\\datqu\\anaconda3\\envs\\PythonAdv\\lib\\site-packages\\sklearn\\model_selection\\_validation.py:598: DataConversionWarning: A column-vector y was passed when a 1d array was expected. Please change the shape of y to (n_samples,), for example using ravel().\n",
      "  estimator.fit(X_train, y_train, **fit_params)\n"
     ]
    },
    {
     "name": "stdout",
     "output_type": "stream",
     "text": [
      "[CV 3/5] END max_features=0.8, min_samples_leaf=2, n_estimators=200;, score=0.333 total time=  17.4s\n"
     ]
    },
    {
     "name": "stderr",
     "output_type": "stream",
     "text": [
      "c:\\Users\\datqu\\anaconda3\\envs\\PythonAdv\\lib\\site-packages\\sklearn\\model_selection\\_validation.py:598: DataConversionWarning: A column-vector y was passed when a 1d array was expected. Please change the shape of y to (n_samples,), for example using ravel().\n",
      "  estimator.fit(X_train, y_train, **fit_params)\n"
     ]
    },
    {
     "name": "stdout",
     "output_type": "stream",
     "text": [
      "[CV 4/5] END max_features=0.8, min_samples_leaf=2, n_estimators=200;, score=0.318 total time=  18.8s\n"
     ]
    },
    {
     "name": "stderr",
     "output_type": "stream",
     "text": [
      "c:\\Users\\datqu\\anaconda3\\envs\\PythonAdv\\lib\\site-packages\\sklearn\\model_selection\\_validation.py:598: DataConversionWarning: A column-vector y was passed when a 1d array was expected. Please change the shape of y to (n_samples,), for example using ravel().\n",
      "  estimator.fit(X_train, y_train, **fit_params)\n"
     ]
    },
    {
     "name": "stdout",
     "output_type": "stream",
     "text": [
      "[CV 5/5] END max_features=0.8, min_samples_leaf=2, n_estimators=200;, score=0.336 total time=  16.2s\n"
     ]
    },
    {
     "name": "stderr",
     "output_type": "stream",
     "text": [
      "c:\\Users\\datqu\\anaconda3\\envs\\PythonAdv\\lib\\site-packages\\sklearn\\model_selection\\_validation.py:598: DataConversionWarning: A column-vector y was passed when a 1d array was expected. Please change the shape of y to (n_samples,), for example using ravel().\n",
      "  estimator.fit(X_train, y_train, **fit_params)\n"
     ]
    },
    {
     "name": "stdout",
     "output_type": "stream",
     "text": [
      "[CV 1/5] END max_features=0.8, min_samples_leaf=2, n_estimators=300;, score=0.320 total time=  20.6s\n"
     ]
    },
    {
     "name": "stderr",
     "output_type": "stream",
     "text": [
      "c:\\Users\\datqu\\anaconda3\\envs\\PythonAdv\\lib\\site-packages\\sklearn\\model_selection\\_validation.py:598: DataConversionWarning: A column-vector y was passed when a 1d array was expected. Please change the shape of y to (n_samples,), for example using ravel().\n",
      "  estimator.fit(X_train, y_train, **fit_params)\n"
     ]
    }
   ],
   "source": [
    "grid.fit(X_train_scaled, y_train)"
   ]
  },
  {
   "cell_type": "code",
   "execution_count": 33,
   "metadata": {},
   "outputs": [
    {
     "name": "stdout",
     "output_type": "stream",
     "text": [
      "{'max_features': 0.2, 'min_samples_leaf': 2, 'n_estimators': 300}\n",
      "0.5645328010063169\n"
     ]
    }
   ],
   "source": [
    "print(grid.best_params_)\n",
    "print(grid.best_score_)"
   ]
  }
 ],
 "metadata": {
  "kernelspec": {
   "display_name": "Python 3.6.13 ('PythonAdv')",
   "language": "python",
   "name": "python3"
  },
  "language_info": {
   "codemirror_mode": {
    "name": "ipython",
    "version": 3
   },
   "file_extension": ".py",
   "mimetype": "text/x-python",
   "name": "python",
   "nbconvert_exporter": "python",
   "pygments_lexer": "ipython3",
   "version": "3.6.13"
  },
  "orig_nbformat": 4,
  "vscode": {
   "interpreter": {
    "hash": "5addab4c795681c1e036861d4046f34225618adb54932242744c774649caf768"
   }
  }
 },
 "nbformat": 4,
 "nbformat_minor": 2
}
